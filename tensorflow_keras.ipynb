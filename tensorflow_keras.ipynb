{
 "cells": [
  {
   "cell_type": "code",
   "execution_count": 18,
   "metadata": {},
   "outputs": [],
   "source": [
    "import pandas as pd\n",
    "import numpy as np"
   ]
  },
  {
   "attachments": {},
   "cell_type": "markdown",
   "metadata": {},
   "source": [
    "Loading input into numpy ndarray"
   ]
  },
  {
   "cell_type": "code",
   "execution_count": 19,
   "metadata": {},
   "outputs": [],
   "source": [
    "def clean_cell(cell: str):\n",
    "    if cell == \"R\\n\" or \"M\\n\":\n",
    "        return cell.strip(\"\\n\")\n",
    "    return float(cell)"
   ]
  },
  {
   "cell_type": "code",
   "execution_count": 20,
   "metadata": {},
   "outputs": [],
   "source": [
    "file = \"data/sonar.all-data\"\n",
    "f = open(file)\n",
    "M = []\n",
    "for line in f:\n",
    "    M.append([clean_cell(x) for x in line.split(',')])\n",
    "M = np.array([np.array(i) for i in M])"
   ]
  },
  {
   "attachments": {},
   "cell_type": "markdown",
   "metadata": {},
   "source": [
    "Preparing train and val splits"
   ]
  },
  {
   "cell_type": "code",
   "execution_count": 21,
   "metadata": {},
   "outputs": [],
   "source": [
    "np.random.shuffle(M)\n",
    "x = M[:, :60].astype(float)\n",
    "y = M[:, 60]"
   ]
  },
  {
   "cell_type": "code",
   "execution_count": 22,
   "metadata": {},
   "outputs": [
    {
     "data": {
      "text/plain": [
       "array([[-0.90105381, -0.91308249, -0.85327323, ..., -0.93313028,\n",
       "        -0.94081527, -0.95618525],\n",
       "       [-1.02742384, -0.90864724, -0.89553311, ..., -1.12072155,\n",
       "        -1.06414343, -1.111729  ],\n",
       "       [-0.82561428, -0.7693425 , -0.83233858, ..., -0.85109583,\n",
       "        -0.82349081, -0.83623159],\n",
       "       ...,\n",
       "       [-0.79760933, -0.80481718, -0.81399082, ..., -0.82545786,\n",
       "        -0.82447497, -0.82414734],\n",
       "       [-0.63204503, -0.66039757, -0.74612234, ..., -0.76013184,\n",
       "        -0.78047896, -0.79582269],\n",
       "       [-0.90872899, -0.8960953 , -0.90114878, ..., -0.93688406,\n",
       "        -0.9249723 , -0.93544021]])"
      ]
     },
     "execution_count": 22,
     "metadata": {},
     "output_type": "execute_result"
    }
   ],
   "source": [
    "def normalise_2darray(d2array):\n",
    "    output_array = []\n",
    "    for array in d2array:\n",
    "        x = (array - np.mean(array)) / np.std(array)\n",
    "        # x[x < 0] *= -1\n",
    "        # x = (x-np.min(x))/(np.max(x)-np.min(x))\n",
    "        output_array.append(x)\n",
    "    return np.asarray(output_array)\n",
    "\n",
    "x_norm = normalise_2darray(x)\n",
    "x_norm"
   ]
  },
  {
   "cell_type": "code",
   "execution_count": 23,
   "metadata": {},
   "outputs": [
    {
     "name": "stdout",
     "output_type": "stream",
     "text": [
      "[1 0 1 1 1 1 1 0 0 0 1 0 1 0 1 1 1 0 1 0 1 1 0 0 1 1 0 1 0 1 1 1 0 1 0 0 1\n",
      " 0 1 0 0 1 0 1 1 0 1 0 0 0 1 1 1 1 1 0 0 0 0 0 0 1 0 1 1 1 0 0 1 0 0 0 0 0\n",
      " 0 1 1 0 0 1 1 1 1 1 0 0 0 0 1 1 0 1 1 0 1 1 1 1 0 0 0 1 1 0 1 1 0 0 1 1 0\n",
      " 0 0 0 1 0 1 0 0 0 1 0 1 0 0 1 1 0 0 0 0 0 0 0 1 0 0 0 0 1 1 1 1 1 1 0 1 1\n",
      " 0 1 0 1 0 1 1 0 1 1 1 0 0 1 1 1 1 1 0 1 0 1 1 1 1 1 1 0 1 1 1 0 0 0 1 1 1\n",
      " 0 1 1 1 1 0 0 1 0 0 1 0 0 1 1 0 1 1 1 1 0 1 0] \n",
      " {'R': 0, 'M': 1}\n"
     ]
    }
   ],
   "source": [
    "def encode_classes(target):\n",
    "    encoded_target = []\n",
    "    encoding_dict = {'R': 0, 'M': 1}\n",
    "    \n",
    "    for x in target:\n",
    "        encoded_target.append(encoding_dict.get(x))\n",
    "            \n",
    "    return np.asarray(encoded_target), encoding_dict\n",
    "\n",
    "y_enc, encoding = encode_classes(y)\n",
    "print(y_enc, '\\n', encoding)"
   ]
  },
  {
   "attachments": {},
   "cell_type": "markdown",
   "metadata": {},
   "source": [
    "Removing features with low impact on target class"
   ]
  },
  {
   "cell_type": "code",
   "execution_count": 24,
   "metadata": {},
   "outputs": [
    {
     "data": {
      "text/plain": [
       "(208, 37)"
      ]
     },
     "execution_count": 24,
     "metadata": {},
     "output_type": "execute_result"
    }
   ],
   "source": [
    "corr_arr = []\n",
    "for idx, row in enumerate(x_norm):\n",
    "    arr = np.asarray(list(row) + [y_enc[idx]])\n",
    "    corr_arr.append(arr)\n",
    "corr_arr = np.asarray(corr_arr)\n",
    "corr_map = np.corrcoef(corr_arr, rowvar=False).round(2)\n",
    "corr_map = corr_map[:, 60]  # keep only final column of the heatmap | correlation to target class\n",
    "corr_map = corr_map.reshape((61, 1))\n",
    "\n",
    "to_drop = []\n",
    "for idx, value in enumerate(corr_map):\n",
    "    if value > -0.1 and value < 0.1:\n",
    "        to_drop.append(idx)\n",
    "to_drop\n",
    "\n",
    "x_norm = np.delete(x_norm, to_drop, axis=1)\n",
    "x_norm.shape"
   ]
  },
  {
   "attachments": {},
   "cell_type": "markdown",
   "metadata": {},
   "source": [
    "Splitting into train, val and test sets"
   ]
  },
  {
   "cell_type": "code",
   "execution_count": 35,
   "metadata": {},
   "outputs": [
    {
     "data": {
      "text/plain": [
       "array([[  0,  97],\n",
       "       [  1, 111]], dtype=int64)"
      ]
     },
     "execution_count": 35,
     "metadata": {},
     "output_type": "execute_result"
    }
   ],
   "source": [
    "np.array(np.unique(y_enc, return_counts=True)).T"
   ]
  },
  {
   "cell_type": "code",
   "execution_count": 25,
   "metadata": {},
   "outputs": [],
   "source": [
    "from sklearn.model_selection import train_test_split\n",
    "x_train, x_test = train_test_split(x_norm, test_size=0.1)\n",
    "y_train, y_test = train_test_split(y_enc, test_size=0.1)\n",
    "x_train, x_val =  train_test_split(x_train, test_size=0.2)\n",
    "y_train, y_val = train_test_split(y_train, test_size=0.2)"
   ]
  },
  {
   "cell_type": "code",
   "execution_count": 26,
   "metadata": {},
   "outputs": [
    {
     "name": "stdout",
     "output_type": "stream",
     "text": [
      "(149, 37) (38, 37) (21, 37)\n",
      "(149,) (38,) (21,)\n"
     ]
    }
   ],
   "source": [
    "print(x_train.shape, x_val.shape, x_test.shape)\n",
    "print(y_train.shape, y_val.shape, y_test.shape)"
   ]
  },
  {
   "cell_type": "code",
   "execution_count": 27,
   "metadata": {},
   "outputs": [
    {
     "data": {
      "text/plain": [
       "array([[ 0, 70],\n",
       "       [ 1, 79]], dtype=int64)"
      ]
     },
     "execution_count": 27,
     "metadata": {},
     "output_type": "execute_result"
    }
   ],
   "source": [
    "np.array(np.unique(y_train, return_counts=True)).T"
   ]
  },
  {
   "cell_type": "code",
   "execution_count": 28,
   "metadata": {},
   "outputs": [
    {
     "data": {
      "text/plain": [
       "array([[ 0, 17],\n",
       "       [ 1, 21]], dtype=int64)"
      ]
     },
     "execution_count": 28,
     "metadata": {},
     "output_type": "execute_result"
    }
   ],
   "source": [
    "np.array(np.unique(y_val, return_counts=True)).T"
   ]
  },
  {
   "cell_type": "code",
   "execution_count": 29,
   "metadata": {},
   "outputs": [
    {
     "data": {
      "text/plain": [
       "array([[ 0, 10],\n",
       "       [ 1, 11]], dtype=int64)"
      ]
     },
     "execution_count": 29,
     "metadata": {},
     "output_type": "execute_result"
    }
   ],
   "source": [
    "np.array(np.unique(y_test, return_counts=True)).T"
   ]
  },
  {
   "attachments": {},
   "cell_type": "markdown",
   "metadata": {},
   "source": [
    "Creating model in Keras (tensorflow)"
   ]
  },
  {
   "cell_type": "code",
   "execution_count": 30,
   "metadata": {},
   "outputs": [],
   "source": [
    "from keras.models import Model\n",
    "from keras.layers import Input, Dense\n",
    "from keras.activations import sigmoid, relu, hard_sigmoid, tanh, softmax\n",
    "\n",
    "input = Input(shape=(x_norm.shape[1], ), name=\"input\")\n",
    "dense1 = Dense(128, activation=relu)(input)\n",
    "dense2 = Dense(128, activation=relu)(dense1)\n",
    "dense3 = Dense(128, activation=relu)(dense2)\n",
    "dense4 = Dense(128, activation=relu)(dense3)\n",
    "dense5 = Dense(64, activation=relu)(dense4)\n",
    "dense6 = Dense(64, activation=relu)(dense5)\n",
    "dense7 = Dense(64, activation=relu)(dense6)\n",
    "dense8 = Dense(64, activation=relu)(dense7)\n",
    "dense_out = Dense(1, activation=sigmoid, name=\"dense_out\")(dense8)\n",
    "model = Model(input, dense_out, name='test_model')"
   ]
  },
  {
   "cell_type": "code",
   "execution_count": 31,
   "metadata": {},
   "outputs": [],
   "source": [
    "from keras.optimizers import Adam, SGD, RMSprop\n",
    "from keras.losses import BinaryCrossentropy\n",
    "from keras.metrics import BinaryAccuracy, Recall, AUC\n",
    "\n",
    "# optimizer = Adam(learning_rate=0.001, beta_1=0.8, beta_2=0.9)\n",
    "optimizer = RMSprop(learning_rate=0.001, rho=0.9)\n",
    "model.compile(loss=BinaryCrossentropy(from_logits=False), optimizer=optimizer, metrics=[BinaryAccuracy(), Recall(), AUC()])"
   ]
  },
  {
   "cell_type": "code",
   "execution_count": 32,
   "metadata": {},
   "outputs": [
    {
     "name": "stdout",
     "output_type": "stream",
     "text": [
      "Epoch 1/50\n",
      "6/6 [==============================] - 1s 41ms/step - loss: 0.6976 - binary_accuracy: 0.5302 - recall_1: 0.6835 - auc_1: 0.4970 - val_loss: 0.6931 - val_binary_accuracy: 0.5000 - val_recall_1: 0.1429 - val_auc_1: 0.5868\n",
      "Epoch 2/50\n",
      "6/6 [==============================] - 0s 5ms/step - loss: 0.6898 - binary_accuracy: 0.5436 - recall_1: 0.5190 - auc_1: 0.5427 - val_loss: 0.6785 - val_binary_accuracy: 0.5526 - val_recall_1: 1.0000 - val_auc_1: 0.5532\n",
      "Epoch 3/50\n",
      "6/6 [==============================] - 0s 6ms/step - loss: 0.6813 - binary_accuracy: 0.5436 - recall_1: 0.8228 - auc_1: 0.5799 - val_loss: 0.6707 - val_binary_accuracy: 0.5526 - val_recall_1: 0.6667 - val_auc_1: 0.6218\n",
      "Epoch 4/50\n",
      "6/6 [==============================] - 0s 9ms/step - loss: 0.6535 - binary_accuracy: 0.6242 - recall_1: 0.8734 - auc_1: 0.6966 - val_loss: 0.6661 - val_binary_accuracy: 0.5789 - val_recall_1: 0.3810 - val_auc_1: 0.6261\n",
      "Epoch 5/50\n",
      "6/6 [==============================] - 0s 5ms/step - loss: 0.6493 - binary_accuracy: 0.6242 - recall_1: 0.7468 - auc_1: 0.6926 - val_loss: 0.6630 - val_binary_accuracy: 0.5789 - val_recall_1: 0.3810 - val_auc_1: 0.6050\n",
      "Epoch 6/50\n",
      "6/6 [==============================] - 0s 6ms/step - loss: 0.6430 - binary_accuracy: 0.6443 - recall_1: 0.6835 - auc_1: 0.6771 - val_loss: 0.6770 - val_binary_accuracy: 0.5526 - val_recall_1: 0.3333 - val_auc_1: 0.6134\n",
      "Epoch 7/50\n",
      "6/6 [==============================] - 0s 8ms/step - loss: 0.6279 - binary_accuracy: 0.6846 - recall_1: 0.6709 - auc_1: 0.7068 - val_loss: 0.6659 - val_binary_accuracy: 0.5789 - val_recall_1: 0.6667 - val_auc_1: 0.6359\n",
      "Epoch 8/50\n",
      "6/6 [==============================] - 0s 8ms/step - loss: 0.6277 - binary_accuracy: 0.6309 - recall_1: 0.6962 - auc_1: 0.6971 - val_loss: 0.6639 - val_binary_accuracy: 0.6316 - val_recall_1: 0.6190 - val_auc_1: 0.6218\n",
      "Epoch 9/50\n",
      "6/6 [==============================] - 0s 9ms/step - loss: 0.5591 - binary_accuracy: 0.7181 - recall_1: 0.7595 - auc_1: 0.7962 - val_loss: 0.7072 - val_binary_accuracy: 0.5526 - val_recall_1: 0.5714 - val_auc_1: 0.6036\n",
      "Epoch 10/50\n",
      "6/6 [==============================] - 0s 8ms/step - loss: 0.5706 - binary_accuracy: 0.6846 - recall_1: 0.7468 - auc_1: 0.7684 - val_loss: 0.7626 - val_binary_accuracy: 0.5000 - val_recall_1: 0.2381 - val_auc_1: 0.6064\n",
      "Epoch 11/50\n",
      "6/6 [==============================] - 0s 5ms/step - loss: 0.5161 - binary_accuracy: 0.7517 - recall_1: 0.6962 - auc_1: 0.8336 - val_loss: 0.8928 - val_binary_accuracy: 0.5526 - val_recall_1: 0.8571 - val_auc_1: 0.5966\n",
      "Epoch 12/50\n",
      "6/6 [==============================] - 0s 9ms/step - loss: 0.5424 - binary_accuracy: 0.7047 - recall_1: 0.7722 - auc_1: 0.7954 - val_loss: 0.7536 - val_binary_accuracy: 0.5789 - val_recall_1: 0.4762 - val_auc_1: 0.6064\n",
      "Epoch 13/50\n",
      "6/6 [==============================] - 0s 5ms/step - loss: 0.4795 - binary_accuracy: 0.7785 - recall_1: 0.7975 - auc_1: 0.8511 - val_loss: 0.7893 - val_binary_accuracy: 0.5789 - val_recall_1: 0.6190 - val_auc_1: 0.6078\n",
      "Epoch 14/50\n",
      "6/6 [==============================] - 0s 6ms/step - loss: 0.5227 - binary_accuracy: 0.7248 - recall_1: 0.7215 - auc_1: 0.8179 - val_loss: 0.7956 - val_binary_accuracy: 0.5526 - val_recall_1: 0.4762 - val_auc_1: 0.5798\n",
      "Epoch 15/50\n",
      "6/6 [==============================] - 0s 8ms/step - loss: 0.4330 - binary_accuracy: 0.8054 - recall_1: 0.8101 - auc_1: 0.8853 - val_loss: 0.8917 - val_binary_accuracy: 0.5789 - val_recall_1: 0.2857 - val_auc_1: 0.6050\n",
      "Epoch 16/50\n",
      "6/6 [==============================] - 0s 5ms/step - loss: 0.4012 - binary_accuracy: 0.8188 - recall_1: 0.8101 - auc_1: 0.9013 - val_loss: 0.8608 - val_binary_accuracy: 0.5526 - val_recall_1: 0.5714 - val_auc_1: 0.5728\n",
      "Epoch 17/50\n",
      "6/6 [==============================] - 0s 6ms/step - loss: 0.4356 - binary_accuracy: 0.7987 - recall_1: 0.7848 - auc_1: 0.8795 - val_loss: 0.9025 - val_binary_accuracy: 0.5526 - val_recall_1: 0.6667 - val_auc_1: 0.6008\n",
      "Epoch 18/50\n",
      "6/6 [==============================] - 0s 8ms/step - loss: 0.4299 - binary_accuracy: 0.7852 - recall_1: 0.7975 - auc_1: 0.8859 - val_loss: 0.8601 - val_binary_accuracy: 0.5526 - val_recall_1: 0.4286 - val_auc_1: 0.6008\n",
      "Epoch 19/50\n",
      "6/6 [==============================] - 0s 5ms/step - loss: 0.2971 - binary_accuracy: 0.8926 - recall_1: 0.8861 - auc_1: 0.9473 - val_loss: 0.9802 - val_binary_accuracy: 0.5263 - val_recall_1: 0.4286 - val_auc_1: 0.5882\n",
      "Epoch 20/50\n",
      "6/6 [==============================] - 0s 8ms/step - loss: 0.4806 - binary_accuracy: 0.7987 - recall_1: 0.8354 - auc_1: 0.8611 - val_loss: 0.9284 - val_binary_accuracy: 0.6053 - val_recall_1: 0.5238 - val_auc_1: 0.5896\n",
      "Epoch 21/50\n",
      "6/6 [==============================] - 0s 4ms/step - loss: 0.2763 - binary_accuracy: 0.9128 - recall_1: 0.9114 - auc_1: 0.9587 - val_loss: 1.1390 - val_binary_accuracy: 0.5526 - val_recall_1: 0.6667 - val_auc_1: 0.5812\n",
      "Epoch 22/50\n",
      "6/6 [==============================] - 0s 6ms/step - loss: 0.3316 - binary_accuracy: 0.8725 - recall_1: 0.8987 - auc_1: 0.9307 - val_loss: 1.0878 - val_binary_accuracy: 0.5263 - val_recall_1: 0.7143 - val_auc_1: 0.5490\n",
      "Epoch 23/50\n",
      "6/6 [==============================] - 0s 6ms/step - loss: 0.3404 - binary_accuracy: 0.8591 - recall_1: 0.8987 - auc_1: 0.9283 - val_loss: 1.0415 - val_binary_accuracy: 0.5789 - val_recall_1: 0.5238 - val_auc_1: 0.6078\n",
      "Epoch 24/50\n",
      "6/6 [==============================] - 0s 6ms/step - loss: 0.2286 - binary_accuracy: 0.9128 - recall_1: 0.9367 - auc_1: 0.9676 - val_loss: 1.2237 - val_binary_accuracy: 0.6053 - val_recall_1: 0.6190 - val_auc_1: 0.5882\n",
      "Epoch 25/50\n",
      "6/6 [==============================] - 0s 9ms/step - loss: 0.3684 - binary_accuracy: 0.8658 - recall_1: 0.8987 - auc_1: 0.9178 - val_loss: 1.0868 - val_binary_accuracy: 0.6053 - val_recall_1: 0.5714 - val_auc_1: 0.5812\n",
      "Epoch 26/50\n",
      "6/6 [==============================] - 0s 4ms/step - loss: 0.2444 - binary_accuracy: 0.9195 - recall_1: 0.9747 - auc_1: 0.9618 - val_loss: 1.2408 - val_binary_accuracy: 0.5263 - val_recall_1: 0.5714 - val_auc_1: 0.5826\n",
      "Epoch 27/50\n",
      "6/6 [==============================] - 0s 5ms/step - loss: 0.2696 - binary_accuracy: 0.8859 - recall_1: 0.9494 - auc_1: 0.9468 - val_loss: 1.2921 - val_binary_accuracy: 0.5263 - val_recall_1: 0.5238 - val_auc_1: 0.5658\n",
      "Epoch 28/50\n",
      "6/6 [==============================] - 0s 8ms/step - loss: 0.3182 - binary_accuracy: 0.8523 - recall_1: 0.8987 - auc_1: 0.9320 - val_loss: 1.2376 - val_binary_accuracy: 0.5263 - val_recall_1: 0.5238 - val_auc_1: 0.5854\n",
      "Epoch 29/50\n",
      "6/6 [==============================] - 0s 5ms/step - loss: 0.2181 - binary_accuracy: 0.9195 - recall_1: 0.9494 - auc_1: 0.9712 - val_loss: 1.4785 - val_binary_accuracy: 0.5526 - val_recall_1: 0.5238 - val_auc_1: 0.5756\n",
      "Epoch 30/50\n",
      "6/6 [==============================] - 0s 9ms/step - loss: 0.1929 - binary_accuracy: 0.9128 - recall_1: 0.9241 - auc_1: 0.9807 - val_loss: 1.4008 - val_binary_accuracy: 0.6316 - val_recall_1: 0.5714 - val_auc_1: 0.5812\n",
      "Epoch 31/50\n",
      "6/6 [==============================] - 0s 4ms/step - loss: 0.1546 - binary_accuracy: 0.9329 - recall_1: 0.9620 - auc_1: 0.9843 - val_loss: 1.4776 - val_binary_accuracy: 0.6579 - val_recall_1: 0.6190 - val_auc_1: 0.5896\n",
      "Epoch 32/50\n",
      "6/6 [==============================] - 0s 5ms/step - loss: 0.3935 - binary_accuracy: 0.8389 - recall_1: 0.8608 - auc_1: 0.9271 - val_loss: 1.3496 - val_binary_accuracy: 0.5526 - val_recall_1: 0.5238 - val_auc_1: 0.5854\n",
      "Epoch 33/50\n",
      "6/6 [==============================] - 0s 9ms/step - loss: 0.1580 - binary_accuracy: 0.9396 - recall_1: 0.9367 - auc_1: 0.9900 - val_loss: 1.4946 - val_binary_accuracy: 0.5263 - val_recall_1: 0.7619 - val_auc_1: 0.5490\n",
      "Epoch 34/50\n",
      "6/6 [==============================] - 0s 8ms/step - loss: 0.2468 - binary_accuracy: 0.8926 - recall_1: 0.9241 - auc_1: 0.9643 - val_loss: 1.3949 - val_binary_accuracy: 0.5526 - val_recall_1: 0.5714 - val_auc_1: 0.5854\n",
      "Epoch 35/50\n",
      "6/6 [==============================] - 0s 4ms/step - loss: 0.1613 - binary_accuracy: 0.9396 - recall_1: 0.9620 - auc_1: 0.9870 - val_loss: 1.4500 - val_binary_accuracy: 0.5789 - val_recall_1: 0.7143 - val_auc_1: 0.6190\n",
      "Epoch 36/50\n",
      "6/6 [==============================] - 0s 6ms/step - loss: 0.2349 - binary_accuracy: 0.8993 - recall_1: 0.9241 - auc_1: 0.9640 - val_loss: 1.4747 - val_binary_accuracy: 0.5000 - val_recall_1: 0.5238 - val_auc_1: 0.5924\n",
      "Epoch 37/50\n",
      "6/6 [==============================] - 0s 8ms/step - loss: 0.1304 - binary_accuracy: 0.9530 - recall_1: 0.9747 - auc_1: 0.9928 - val_loss: 2.0808 - val_binary_accuracy: 0.5526 - val_recall_1: 0.3333 - val_auc_1: 0.5910\n",
      "Epoch 38/50\n",
      "6/6 [==============================] - 0s 5ms/step - loss: 0.1703 - binary_accuracy: 0.9060 - recall_1: 0.9367 - auc_1: 0.9834 - val_loss: 1.8630 - val_binary_accuracy: 0.6053 - val_recall_1: 0.4286 - val_auc_1: 0.5896\n",
      "Epoch 39/50\n",
      "6/6 [==============================] - 0s 9ms/step - loss: 0.1966 - binary_accuracy: 0.9128 - recall_1: 0.9114 - auc_1: 0.9772 - val_loss: 1.6113 - val_binary_accuracy: 0.5789 - val_recall_1: 0.5714 - val_auc_1: 0.5882\n",
      "Epoch 40/50\n",
      "6/6 [==============================] - 0s 5ms/step - loss: 0.1513 - binary_accuracy: 0.9396 - recall_1: 0.9620 - auc_1: 0.9864 - val_loss: 1.9853 - val_binary_accuracy: 0.5526 - val_recall_1: 0.2857 - val_auc_1: 0.5700\n",
      "Epoch 41/50\n",
      "6/6 [==============================] - 0s 9ms/step - loss: 0.1187 - binary_accuracy: 0.9530 - recall_1: 0.9747 - auc_1: 0.9907 - val_loss: 1.9422 - val_binary_accuracy: 0.5789 - val_recall_1: 0.5238 - val_auc_1: 0.5896\n",
      "Epoch 42/50\n",
      "6/6 [==============================] - 0s 8ms/step - loss: 0.1547 - binary_accuracy: 0.9396 - recall_1: 0.9620 - auc_1: 0.9870 - val_loss: 2.0419 - val_binary_accuracy: 0.5526 - val_recall_1: 0.3810 - val_auc_1: 0.5364\n",
      "Epoch 43/50\n",
      "6/6 [==============================] - 0s 5ms/step - loss: 0.1722 - binary_accuracy: 0.9060 - recall_1: 0.9114 - auc_1: 0.9818 - val_loss: 1.8835 - val_binary_accuracy: 0.5263 - val_recall_1: 0.5714 - val_auc_1: 0.5742\n",
      "Epoch 44/50\n",
      "6/6 [==============================] - 0s 9ms/step - loss: 0.1488 - binary_accuracy: 0.9396 - recall_1: 0.9494 - auc_1: 0.9876 - val_loss: 1.8698 - val_binary_accuracy: 0.5263 - val_recall_1: 0.3810 - val_auc_1: 0.5672\n",
      "Epoch 45/50\n",
      "6/6 [==============================] - 0s 8ms/step - loss: 0.0798 - binary_accuracy: 0.9597 - recall_1: 0.9620 - auc_1: 0.9975 - val_loss: 2.1227 - val_binary_accuracy: 0.6053 - val_recall_1: 0.5238 - val_auc_1: 0.6120\n",
      "Epoch 46/50\n",
      "6/6 [==============================] - 0s 5ms/step - loss: 0.2002 - binary_accuracy: 0.9329 - recall_1: 0.9241 - auc_1: 0.9766 - val_loss: 1.6630 - val_binary_accuracy: 0.5526 - val_recall_1: 0.5714 - val_auc_1: 0.5924\n",
      "Epoch 47/50\n",
      "6/6 [==============================] - 0s 9ms/step - loss: 0.0670 - binary_accuracy: 0.9732 - recall_1: 0.9873 - auc_1: 0.9984 - val_loss: 2.1563 - val_binary_accuracy: 0.6053 - val_recall_1: 0.5238 - val_auc_1: 0.5980\n",
      "Epoch 48/50\n",
      "6/6 [==============================] - 0s 4ms/step - loss: 0.1206 - binary_accuracy: 0.9664 - recall_1: 0.9747 - auc_1: 0.9839 - val_loss: 1.8432 - val_binary_accuracy: 0.5789 - val_recall_1: 0.4286 - val_auc_1: 0.5798\n",
      "Epoch 49/50\n",
      "6/6 [==============================] - 0s 5ms/step - loss: 0.0559 - binary_accuracy: 0.9732 - recall_1: 0.9747 - auc_1: 0.9986 - val_loss: 2.4755 - val_binary_accuracy: 0.5263 - val_recall_1: 0.4762 - val_auc_1: 0.5616\n",
      "Epoch 50/50\n",
      "6/6 [==============================] - 0s 9ms/step - loss: 0.0925 - binary_accuracy: 0.9732 - recall_1: 0.9747 - auc_1: 0.9892 - val_loss: 2.5669 - val_binary_accuracy: 0.5263 - val_recall_1: 0.2857 - val_auc_1: 0.5406\n"
     ]
    },
    {
     "data": {
      "text/plain": [
       "<keras.callbacks.History at 0x2cd7e710610>"
      ]
     },
     "execution_count": 32,
     "metadata": {},
     "output_type": "execute_result"
    }
   ],
   "source": [
    "val_data = (x_val, y_val)\n",
    "model.fit(x=x_train, y=y_train, validation_data=val_data, batch_size=25, epochs=50, verbose=1)"
   ]
  },
  {
   "cell_type": "code",
   "execution_count": 33,
   "metadata": {},
   "outputs": [
    {
     "name": "stdout",
     "output_type": "stream",
     "text": [
      "1/1 [==============================] - 0s 19ms/step - loss: 1.3124 - binary_accuracy: 0.6667 - recall_1: 0.5455 - auc_1: 0.7955\n"
     ]
    },
    {
     "data": {
      "text/plain": [
       "[1.312403917312622, 0.6666666865348816, 0.5454545617103577, 0.7954545617103577]"
      ]
     },
     "execution_count": 33,
     "metadata": {},
     "output_type": "execute_result"
    }
   ],
   "source": [
    "model.evaluate(x=x_test, y=y_test)"
   ]
  },
  {
   "cell_type": "code",
   "execution_count": 34,
   "metadata": {},
   "outputs": [
    {
     "name": "stdout",
     "output_type": "stream",
     "text": [
      "Model: \"test_model\"\n",
      "_________________________________________________________________\n",
      " Layer (type)                Output Shape              Param #   \n",
      "=================================================================\n",
      " input (InputLayer)          [(None, 37)]              0         \n",
      "                                                                 \n",
      " dense_8 (Dense)             (None, 128)               4864      \n",
      "                                                                 \n",
      " dense_9 (Dense)             (None, 128)               16512     \n",
      "                                                                 \n",
      " dense_10 (Dense)            (None, 128)               16512     \n",
      "                                                                 \n",
      " dense_11 (Dense)            (None, 128)               16512     \n",
      "                                                                 \n",
      " dense_12 (Dense)            (None, 64)                8256      \n",
      "                                                                 \n",
      " dense_13 (Dense)            (None, 64)                4160      \n",
      "                                                                 \n",
      " dense_14 (Dense)            (None, 64)                4160      \n",
      "                                                                 \n",
      " dense_15 (Dense)            (None, 64)                4160      \n",
      "                                                                 \n",
      " dense_out (Dense)           (None, 1)                 65        \n",
      "                                                                 \n",
      "=================================================================\n",
      "Total params: 75,201\n",
      "Trainable params: 75,201\n",
      "Non-trainable params: 0\n",
      "_________________________________________________________________\n"
     ]
    }
   ],
   "source": [
    "model.summary()"
   ]
  }
 ],
 "metadata": {
  "kernelspec": {
   "display_name": "nsiete_test",
   "language": "python",
   "name": "python3"
  },
  "language_info": {
   "codemirror_mode": {
    "name": "ipython",
    "version": 3
   },
   "file_extension": ".py",
   "mimetype": "text/x-python",
   "name": "python",
   "nbconvert_exporter": "python",
   "pygments_lexer": "ipython3",
   "version": "3.9.16"
  },
  "orig_nbformat": 4
 },
 "nbformat": 4,
 "nbformat_minor": 2
}
