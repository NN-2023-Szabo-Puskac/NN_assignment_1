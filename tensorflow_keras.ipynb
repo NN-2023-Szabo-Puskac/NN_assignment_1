{
 "cells": [
  {
   "cell_type": "code",
   "execution_count": 1,
   "metadata": {},
   "outputs": [],
   "source": [
    "import pandas as pd\n",
    "import numpy as np"
   ]
  },
  {
   "attachments": {},
   "cell_type": "markdown",
   "metadata": {},
   "source": [
    "Loading input into numpy ndarray"
   ]
  },
  {
   "cell_type": "code",
   "execution_count": 2,
   "metadata": {},
   "outputs": [],
   "source": [
    "def clean_cell(cell: str):\n",
    "    if cell == \"R\\n\" or \"M\\n\":\n",
    "        return cell.strip(\"\\n\")\n",
    "    return float(cell)"
   ]
  },
  {
   "cell_type": "code",
   "execution_count": 3,
   "metadata": {},
   "outputs": [],
   "source": [
    "file = \"data/sonar.all-data\"\n",
    "f = open(file)\n",
    "M = []\n",
    "for line in f:\n",
    "    M.append([clean_cell(x) for x in line.split(',')])\n",
    "M = np.array([np.array(i) for i in M])"
   ]
  },
  {
   "attachments": {},
   "cell_type": "markdown",
   "metadata": {},
   "source": [
    "Preparing train and val splits"
   ]
  },
  {
   "cell_type": "code",
   "execution_count": 4,
   "metadata": {},
   "outputs": [],
   "source": [
    "np.random.shuffle(M)\n",
    "x = M[:, :60].astype(float)\n",
    "y = M[:, 60]"
   ]
  },
  {
   "cell_type": "code",
   "execution_count": 5,
   "metadata": {},
   "outputs": [
    {
     "data": {
      "text/plain": [
       "array([[-0.78878293, -0.85312577, -0.83563451, ..., -0.84812827,\n",
       "        -0.85250108, -0.85062702],\n",
       "       [-0.95337085, -0.88729695, -0.91938999, ..., -0.98357606,\n",
       "        -0.95676893, -0.96922858],\n",
       "       [-1.06383584, -1.07817767, -0.98745725, ..., -1.07184058,\n",
       "        -1.07017292, -1.09518774],\n",
       "       ...,\n",
       "       [-0.8787617 , -0.80082221, -0.75391419, ..., -0.94587626,\n",
       "        -0.94479376, -0.9696911 ],\n",
       "       [-0.84515252, -0.86290981, -0.85900321, ..., -0.89522809,\n",
       "        -0.88705973, -0.88741488],\n",
       "       [-0.7951026 , -0.7925041 , -0.80401172, ..., -0.80289808,\n",
       "        -0.80252687, -0.81254964]])"
      ]
     },
     "execution_count": 5,
     "metadata": {},
     "output_type": "execute_result"
    }
   ],
   "source": [
    "def normalise_2darray(d2array):\n",
    "    output_array = []\n",
    "    for array in d2array:\n",
    "        x = (array - np.mean(array)) / np.std(array)\n",
    "        # x[x < 0] *= -1\n",
    "        # x = (x-np.min(x))/(np.max(x)-np.min(x))\n",
    "        output_array.append(x)\n",
    "    return np.asarray(output_array)\n",
    "\n",
    "x_norm = normalise_2darray(x)\n",
    "x_norm"
   ]
  },
  {
   "cell_type": "code",
   "execution_count": 6,
   "metadata": {},
   "outputs": [
    {
     "name": "stdout",
     "output_type": "stream",
     "text": [
      "[0 0 1 1 0 0 1 1 0 0 0 1 1 1 1 0 0 0 1 0 0 0 0 1 1 1 0 0 1 1 0 0 0 0 1 1 1\n",
      " 1 0 1 1 1 0 0 1 1 1 0 0 0 1 1 1 1 0 1 1 0 1 1 0 0 1 0 0 0 1 0 0 0 0 1 0 1\n",
      " 1 0 0 1 1 0 1 0 1 0 0 1 1 1 1 1 0 0 0 1 1 1 0 0 0 1 0 1 1 1 1 0 1 0 1 0 1\n",
      " 1 1 1 0 1 1 1 1 0 1 1 1 1 1 1 1 1 1 0 0 0 1 1 0 0 0 0 1 1 0 0 1 1 0 1 0 1\n",
      " 0 1 1 0 1 0 1 1 1 1 0 1 1 0 1 1 0 0 1 0 0 1 1 1 0 0 0 1 1 0 1 0 0 0 1 0 1\n",
      " 0 0 1 1 1 0 0 1 0 1 1 0 0 1 0 1 0 0 1 0 1 0 0] \n",
      " {'R': 0, 'M': 1}\n"
     ]
    }
   ],
   "source": [
    "def encode_classes(target):\n",
    "    encoded_target = []\n",
    "    encoding_dict = {'R': 0, 'M': 1}\n",
    "    \n",
    "    for x in target:\n",
    "        encoded_target.append(encoding_dict.get(x))\n",
    "            \n",
    "    return np.asarray(encoded_target), encoding_dict\n",
    "\n",
    "y_enc, encoding = encode_classes(y)\n",
    "print(y_enc, '\\n', encoding)"
   ]
  },
  {
   "attachments": {},
   "cell_type": "markdown",
   "metadata": {},
   "source": [
    "Removing features with low impact on target class"
   ]
  },
  {
   "cell_type": "code",
   "execution_count": 7,
   "metadata": {},
   "outputs": [
    {
     "data": {
      "text/plain": [
       "(208, 37)"
      ]
     },
     "execution_count": 7,
     "metadata": {},
     "output_type": "execute_result"
    }
   ],
   "source": [
    "corr_arr = []\n",
    "for idx, row in enumerate(x_norm):\n",
    "    arr = np.asarray(list(row) + [y_enc[idx]])\n",
    "    corr_arr.append(arr)\n",
    "corr_arr = np.asarray(corr_arr)\n",
    "corr_map = np.corrcoef(corr_arr, rowvar=False).round(2)\n",
    "corr_map = corr_map[:, 60]  # keep only final column of the heatmap | correlation to target class\n",
    "corr_map = corr_map.reshape((61, 1))\n",
    "\n",
    "to_drop = []\n",
    "for idx, value in enumerate(corr_map):\n",
    "    if value > -0.1 and value < 0.1:\n",
    "        to_drop.append(idx)\n",
    "to_drop\n",
    "\n",
    "x_norm = np.delete(x_norm, to_drop, axis=1)\n",
    "x_norm.shape"
   ]
  },
  {
   "attachments": {},
   "cell_type": "markdown",
   "metadata": {},
   "source": [
    "Splitting into train, val and test sets"
   ]
  },
  {
   "cell_type": "code",
   "execution_count": 8,
   "metadata": {},
   "outputs": [
    {
     "data": {
      "text/plain": [
       "array([[  0,  97],\n",
       "       [  1, 111]], dtype=int64)"
      ]
     },
     "execution_count": 8,
     "metadata": {},
     "output_type": "execute_result"
    }
   ],
   "source": [
    "np.array(np.unique(y_enc, return_counts=True)).T"
   ]
  },
  {
   "cell_type": "code",
   "execution_count": 9,
   "metadata": {},
   "outputs": [],
   "source": [
    "from sklearn.model_selection import train_test_split\n",
    "x_train, x_test, y_train, y_test  = train_test_split(x_norm, y_enc, test_size=0.1)\n",
    "x_train, x_val, y_train, y_val =  train_test_split(x_train, y_train, test_size=0.3)"
   ]
  },
  {
   "cell_type": "code",
   "execution_count": 10,
   "metadata": {},
   "outputs": [
    {
     "name": "stdout",
     "output_type": "stream",
     "text": [
      "(130, 37) (57, 37) (21, 37)\n",
      "(130,) (57,) (21,)\n"
     ]
    }
   ],
   "source": [
    "print(x_train.shape, x_val.shape, x_test.shape)\n",
    "print(y_train.shape, y_val.shape, y_test.shape)"
   ]
  },
  {
   "cell_type": "code",
   "execution_count": 11,
   "metadata": {},
   "outputs": [
    {
     "data": {
      "text/plain": [
       "array([[ 0, 56],\n",
       "       [ 1, 74]], dtype=int64)"
      ]
     },
     "execution_count": 11,
     "metadata": {},
     "output_type": "execute_result"
    }
   ],
   "source": [
    "np.array(np.unique(y_train, return_counts=True)).T"
   ]
  },
  {
   "cell_type": "code",
   "execution_count": 12,
   "metadata": {},
   "outputs": [
    {
     "data": {
      "text/plain": [
       "array([[ 0, 30],\n",
       "       [ 1, 27]], dtype=int64)"
      ]
     },
     "execution_count": 12,
     "metadata": {},
     "output_type": "execute_result"
    }
   ],
   "source": [
    "np.array(np.unique(y_val, return_counts=True)).T"
   ]
  },
  {
   "cell_type": "code",
   "execution_count": 13,
   "metadata": {},
   "outputs": [
    {
     "data": {
      "text/plain": [
       "array([[ 0, 11],\n",
       "       [ 1, 10]], dtype=int64)"
      ]
     },
     "execution_count": 13,
     "metadata": {},
     "output_type": "execute_result"
    }
   ],
   "source": [
    "np.array(np.unique(y_test, return_counts=True)).T"
   ]
  },
  {
   "attachments": {},
   "cell_type": "markdown",
   "metadata": {},
   "source": [
    "Creating model in Keras (tensorflow)"
   ]
  },
  {
   "cell_type": "code",
   "execution_count": 14,
   "metadata": {},
   "outputs": [
    {
     "name": "stderr",
     "output_type": "stream",
     "text": [
      "c:\\Users\\vikio\\anaconda3\\envs\\nsiete_test\\lib\\site-packages\\requests\\__init__.py:109: RequestsDependencyWarning: urllib3 (1.26.14) or chardet (None)/charset_normalizer (3.0.1) doesn't match a supported version!\n",
      "  warnings.warn(\n"
     ]
    }
   ],
   "source": [
    "from keras.models import Model\n",
    "from keras.layers import Input, Dense\n",
    "from keras.activations import sigmoid, relu, hard_sigmoid, tanh, softmax\n",
    "\n",
    "input = Input(shape=(x_norm.shape[1], ), name=\"input\")\n",
    "dense1 = Dense(128, activation=lambda x: relu(x, alpha=0.3))(input,)\n",
    "dense2 = Dense(128, activation=lambda x: relu(x, alpha=0.3))(dense1)\n",
    "dense3 = Dense(128, activation=lambda x: relu(x, alpha=0.3))(dense2)\n",
    "dense4 = Dense(128, activation=lambda x: relu(x, alpha=0.3))(dense3)\n",
    "dense5 = Dense(64, activation=lambda x: relu(x, alpha=0.3))(dense4)\n",
    "dense6 = Dense(64, activation=lambda x: relu(x, alpha=0.3))(dense5)\n",
    "dense7 = Dense(64, activation=lambda x: relu(x, alpha=0.3))(dense6)\n",
    "dense8 = Dense(64, activation=lambda x: relu(x, alpha=0.3))(dense7)\n",
    "dense_out = Dense(1, activation=sigmoid, name=\"dense_out\")(dense8)\n",
    "model = Model(input, dense_out, name='test_model')"
   ]
  },
  {
   "cell_type": "code",
   "execution_count": 15,
   "metadata": {},
   "outputs": [],
   "source": [
    "from keras.optimizers import Adam\n",
    "from keras.losses import BinaryCrossentropy\n",
    "from keras.metrics import BinaryAccuracy, AUC\n",
    "\n",
    "optimizer = Adam(learning_rate=0.001, beta_1=0.9, beta_2=0.99)\n",
    "model.compile(loss=BinaryCrossentropy(from_logits=False), optimizer=optimizer, metrics=[BinaryAccuracy(), AUC()])"
   ]
  },
  {
   "cell_type": "code",
   "execution_count": 16,
   "metadata": {},
   "outputs": [
    {
     "name": "stdout",
     "output_type": "stream",
     "text": [
      "Epoch 1/25\n",
      "26/26 [==============================] - 1s 9ms/step - loss: 0.6569 - binary_accuracy: 0.6231 - auc: 0.6389 - val_loss: 0.6023 - val_binary_accuracy: 0.6491 - val_auc: 0.7463\n",
      "Epoch 2/25\n",
      "26/26 [==============================] - 0s 3ms/step - loss: 0.5130 - binary_accuracy: 0.7385 - auc: 0.8220 - val_loss: 0.5656 - val_binary_accuracy: 0.7544 - val_auc: 0.8037\n",
      "Epoch 3/25\n",
      "26/26 [==============================] - 0s 3ms/step - loss: 0.4493 - binary_accuracy: 0.7846 - auc: 0.8650 - val_loss: 0.4593 - val_binary_accuracy: 0.8421 - val_auc: 0.8623\n",
      "Epoch 4/25\n",
      "26/26 [==============================] - 0s 3ms/step - loss: 0.4278 - binary_accuracy: 0.8538 - auc: 0.8866 - val_loss: 0.4788 - val_binary_accuracy: 0.7368 - val_auc: 0.8580\n",
      "Epoch 5/25\n",
      "26/26 [==============================] - 0s 3ms/step - loss: 0.3872 - binary_accuracy: 0.8385 - auc: 0.8914 - val_loss: 0.5349 - val_binary_accuracy: 0.7368 - val_auc: 0.8481\n",
      "Epoch 6/25\n",
      "26/26 [==============================] - 0s 3ms/step - loss: 0.3249 - binary_accuracy: 0.8846 - auc: 0.9192 - val_loss: 0.4523 - val_binary_accuracy: 0.7544 - val_auc: 0.8556\n",
      "Epoch 7/25\n",
      "26/26 [==============================] - 0s 3ms/step - loss: 0.2833 - binary_accuracy: 0.9000 - auc: 0.9421 - val_loss: 0.5454 - val_binary_accuracy: 0.7368 - val_auc: 0.8519\n",
      "Epoch 8/25\n",
      "26/26 [==============================] - 0s 3ms/step - loss: 0.2917 - binary_accuracy: 0.8923 - auc: 0.9326 - val_loss: 0.7619 - val_binary_accuracy: 0.6491 - val_auc: 0.8136\n",
      "Epoch 9/25\n",
      "26/26 [==============================] - 0s 3ms/step - loss: 0.3273 - binary_accuracy: 0.8462 - auc: 0.9309 - val_loss: 0.6293 - val_binary_accuracy: 0.7193 - val_auc: 0.8414\n",
      "Epoch 10/25\n",
      "26/26 [==============================] - 0s 3ms/step - loss: 0.2785 - binary_accuracy: 0.8923 - auc: 0.9431 - val_loss: 0.6101 - val_binary_accuracy: 0.7544 - val_auc: 0.8309\n",
      "Epoch 11/25\n",
      "26/26 [==============================] - 0s 3ms/step - loss: 0.2243 - binary_accuracy: 0.8923 - auc: 0.9603 - val_loss: 0.5764 - val_binary_accuracy: 0.7719 - val_auc: 0.8660\n",
      "Epoch 12/25\n",
      "26/26 [==============================] - 0s 4ms/step - loss: 0.1985 - binary_accuracy: 0.9000 - auc: 0.9697 - val_loss: 0.5378 - val_binary_accuracy: 0.7895 - val_auc: 0.8790\n",
      "Epoch 13/25\n",
      "26/26 [==============================] - 0s 3ms/step - loss: 0.1704 - binary_accuracy: 0.9000 - auc: 0.9842 - val_loss: 1.2646 - val_binary_accuracy: 0.7193 - val_auc: 0.8210\n",
      "Epoch 14/25\n",
      "26/26 [==============================] - 0s 3ms/step - loss: 0.3801 - binary_accuracy: 0.8154 - auc: 0.9029 - val_loss: 0.6092 - val_binary_accuracy: 0.8070 - val_auc: 0.8210\n",
      "Epoch 15/25\n",
      "26/26 [==============================] - 0s 3ms/step - loss: 0.2500 - binary_accuracy: 0.9154 - auc: 0.9459 - val_loss: 0.8079 - val_binary_accuracy: 0.8246 - val_auc: 0.8549\n",
      "Epoch 16/25\n",
      "26/26 [==============================] - 0s 3ms/step - loss: 0.1856 - binary_accuracy: 0.9077 - auc: 0.9725 - val_loss: 0.8547 - val_binary_accuracy: 0.8070 - val_auc: 0.8623\n",
      "Epoch 17/25\n",
      "26/26 [==============================] - 0s 3ms/step - loss: 0.1406 - binary_accuracy: 0.9308 - auc: 0.9844 - val_loss: 1.1882 - val_binary_accuracy: 0.7895 - val_auc: 0.8556\n",
      "Epoch 18/25\n",
      "26/26 [==============================] - 0s 3ms/step - loss: 0.1688 - binary_accuracy: 0.9231 - auc: 0.9836 - val_loss: 0.8471 - val_binary_accuracy: 0.8070 - val_auc: 0.8630\n",
      "Epoch 19/25\n",
      "26/26 [==============================] - 0s 3ms/step - loss: 0.1582 - binary_accuracy: 0.9308 - auc: 0.9843 - val_loss: 1.3703 - val_binary_accuracy: 0.7719 - val_auc: 0.8623\n",
      "Epoch 20/25\n",
      "26/26 [==============================] - 0s 3ms/step - loss: 0.3189 - binary_accuracy: 0.8923 - auc: 0.9543 - val_loss: 0.9105 - val_binary_accuracy: 0.7368 - val_auc: 0.8074\n",
      "Epoch 21/25\n",
      "26/26 [==============================] - 0s 3ms/step - loss: 0.3519 - binary_accuracy: 0.8231 - auc: 0.9186 - val_loss: 0.6296 - val_binary_accuracy: 0.7719 - val_auc: 0.8599\n",
      "Epoch 22/25\n",
      "26/26 [==============================] - 0s 3ms/step - loss: 0.1644 - binary_accuracy: 0.9231 - auc: 0.9815 - val_loss: 0.8294 - val_binary_accuracy: 0.8246 - val_auc: 0.8599\n",
      "Epoch 23/25\n",
      "26/26 [==============================] - 0s 3ms/step - loss: 0.1252 - binary_accuracy: 0.9308 - auc: 0.9894 - val_loss: 1.0417 - val_binary_accuracy: 0.7719 - val_auc: 0.8500\n",
      "Epoch 24/25\n",
      "26/26 [==============================] - 0s 3ms/step - loss: 0.1112 - binary_accuracy: 0.9462 - auc: 0.9943 - val_loss: 1.2400 - val_binary_accuracy: 0.7544 - val_auc: 0.8302\n",
      "Epoch 25/25\n",
      "26/26 [==============================] - 0s 3ms/step - loss: 0.2371 - binary_accuracy: 0.8846 - auc: 0.9698 - val_loss: 0.7753 - val_binary_accuracy: 0.8421 - val_auc: 0.8895\n"
     ]
    },
    {
     "data": {
      "text/plain": [
       "<keras.callbacks.History at 0x1e9d0363df0>"
      ]
     },
     "execution_count": 16,
     "metadata": {},
     "output_type": "execute_result"
    }
   ],
   "source": [
    "val_data = (x_val, y_val)\n",
    "model.fit(x=x_train, y=y_train, validation_data=val_data, batch_size=5, epochs=25, verbose=1)"
   ]
  },
  {
   "cell_type": "code",
   "execution_count": 17,
   "metadata": {},
   "outputs": [
    {
     "name": "stdout",
     "output_type": "stream",
     "text": [
      "1/1 [==============================] - 0s 7ms/step - loss: 0.7620 - binary_accuracy: 0.8095 - auc: 0.8409\n"
     ]
    },
    {
     "data": {
      "text/plain": [
       "[0.7619737982749939, 0.8095238208770752, 0.8409090042114258]"
      ]
     },
     "execution_count": 17,
     "metadata": {},
     "output_type": "execute_result"
    }
   ],
   "source": [
    "model.evaluate(x=x_test, y=y_test)"
   ]
  },
  {
   "cell_type": "code",
   "execution_count": 18,
   "metadata": {},
   "outputs": [
    {
     "name": "stdout",
     "output_type": "stream",
     "text": [
      "Model: \"test_model\"\n",
      "_________________________________________________________________\n",
      " Layer (type)                Output Shape              Param #   \n",
      "=================================================================\n",
      " input (InputLayer)          [(None, 37)]              0         \n",
      "                                                                 \n",
      " dense (Dense)               (None, 128)               4864      \n",
      "                                                                 \n",
      " dense_1 (Dense)             (None, 128)               16512     \n",
      "                                                                 \n",
      " dense_2 (Dense)             (None, 128)               16512     \n",
      "                                                                 \n",
      " dense_3 (Dense)             (None, 128)               16512     \n",
      "                                                                 \n",
      " dense_4 (Dense)             (None, 64)                8256      \n",
      "                                                                 \n",
      " dense_5 (Dense)             (None, 64)                4160      \n",
      "                                                                 \n",
      " dense_6 (Dense)             (None, 64)                4160      \n",
      "                                                                 \n",
      " dense_7 (Dense)             (None, 64)                4160      \n",
      "                                                                 \n",
      " dense_out (Dense)           (None, 1)                 65        \n",
      "                                                                 \n",
      "=================================================================\n",
      "Total params: 75,201\n",
      "Trainable params: 75,201\n",
      "Non-trainable params: 0\n",
      "_________________________________________________________________\n"
     ]
    }
   ],
   "source": [
    "model.summary()"
   ]
  }
 ],
 "metadata": {
  "kernelspec": {
   "display_name": "nsiete_test",
   "language": "python",
   "name": "python3"
  },
  "language_info": {
   "codemirror_mode": {
    "name": "ipython",
    "version": 3
   },
   "file_extension": ".py",
   "mimetype": "text/x-python",
   "name": "python",
   "nbconvert_exporter": "python",
   "pygments_lexer": "ipython3",
   "version": "3.9.16"
  },
  "orig_nbformat": 4
 },
 "nbformat": 4,
 "nbformat_minor": 2
}
