{
 "cells": [
  {
   "cell_type": "code",
   "execution_count": 632,
   "metadata": {},
   "outputs": [],
   "source": [
    "import pandas as pd\n",
    "import numpy as np"
   ]
  },
  {
   "attachments": {},
   "cell_type": "markdown",
   "metadata": {},
   "source": [
    "Loading input into numpy ndarray"
   ]
  },
  {
   "cell_type": "code",
   "execution_count": 633,
   "metadata": {},
   "outputs": [],
   "source": [
    "def clean_cell(cell: str):\n",
    "    if cell == \"R\\n\" or \"M\\n\":\n",
    "        return cell.strip(\"\\n\")\n",
    "    return float(cell)"
   ]
  },
  {
   "cell_type": "code",
   "execution_count": 634,
   "metadata": {},
   "outputs": [],
   "source": [
    "file = \"data/sonar.all-data\"\n",
    "f = open(file)\n",
    "M = []\n",
    "for line in f:\n",
    "    M.append([clean_cell(x) for x in line.split(',')])\n",
    "M = np.array([np.array(i) for i in M])"
   ]
  },
  {
   "attachments": {},
   "cell_type": "markdown",
   "metadata": {},
   "source": [
    "Preparing train and val splits"
   ]
  },
  {
   "cell_type": "code",
   "execution_count": 635,
   "metadata": {},
   "outputs": [],
   "source": [
    "np.random.shuffle(M)\n",
    "x = M[:, :60].astype(float)\n",
    "y = M[:, 60]"
   ]
  },
  {
   "cell_type": "code",
   "execution_count": 636,
   "metadata": {},
   "outputs": [
    {
     "data": {
      "text/plain": [
       "array([[-1.0898072 , -1.1012549 , -1.02316525, ..., -1.10493452,\n",
       "        -1.04933142, -1.08490105],\n",
       "       [-0.80516528, -0.85757709, -0.82403353, ..., -0.85817608,\n",
       "        -0.84829271, -0.85218616],\n",
       "       [-0.83275779, -0.85766521, -0.89127046, ..., -0.94345743,\n",
       "        -0.95689953, -0.93555031],\n",
       "       ...,\n",
       "       [-1.17448994, -1.06767451, -0.97126319, ..., -1.19529814,\n",
       "        -1.19287052, -1.2015406 ],\n",
       "       [-0.96814314, -1.00247733, -1.02076401, ..., -1.08719319,\n",
       "        -1.07562407, -1.08495401],\n",
       "       [-1.07592463, -1.11308872, -0.97171944, ..., -1.22239486,\n",
       "        -1.21437908, -1.22385228]])"
      ]
     },
     "execution_count": 636,
     "metadata": {},
     "output_type": "execute_result"
    }
   ],
   "source": [
    "def normalise_2darray(d2array):\n",
    "    output_array = []\n",
    "    for array in d2array:\n",
    "        x = (array - np.mean(array)) / np.std(array)\n",
    "        # x[x < 0] *= -1\n",
    "        # x = (x-np.min(x))/(np.max(x)-np.min(x))\n",
    "        output_array.append(x)\n",
    "    return np.asarray(output_array)\n",
    "\n",
    "x_norm = normalise_2darray(x)\n",
    "x_norm"
   ]
  },
  {
   "cell_type": "code",
   "execution_count": 637,
   "metadata": {},
   "outputs": [
    {
     "name": "stdout",
     "output_type": "stream",
     "text": [
      "[0 0 1 0 0 0 0 0 0 0 1 1 0 1 1 1 1 1 1 0 1 0 1 0 1 1 0 0 1 0 1 0 0 0 0 1 1\n",
      " 1 0 1 0 1 0 1 0 0 1 0 1 1 0 1 0 1 1 0 1 1 1 1 0 1 1 0 1 1 0 0 1 1 0 0 0 1\n",
      " 0 1 1 1 0 1 0 0 1 0 1 1 0 1 1 1 1 1 0 1 1 0 1 0 0 1 1 1 1 1 1 1 1 1 0 0 1\n",
      " 1 0 0 0 1 0 1 1 0 1 1 0 1 0 1 0 0 1 0 0 0 1 0 1 0 0 1 1 1 0 1 1 1 0 0 0 0\n",
      " 1 0 1 1 1 1 0 0 1 0 1 0 1 1 1 1 1 1 0 1 0 1 1 0 1 0 0 1 0 1 0 0 1 1 0 1 1\n",
      " 0 0 0 1 0 0 0 0 1 0 0 1 1 1 0 0 0 0 1 0 1 0 1] \n",
      " {'R': 0, 'M': 1}\n"
     ]
    }
   ],
   "source": [
    "def encode_classes(target):\n",
    "    encoded_target = []\n",
    "    encoding_dict = {'R': 0, 'M': 1}\n",
    "    \n",
    "    for x in target:\n",
    "        encoded_target.append(encoding_dict.get(x))\n",
    "            \n",
    "    return np.asarray(encoded_target), encoding_dict\n",
    "\n",
    "y_enc, encoding = encode_classes(y)\n",
    "print(y_enc, '\\n', encoding)"
   ]
  },
  {
   "attachments": {},
   "cell_type": "markdown",
   "metadata": {},
   "source": [
    "Removing features with low impact on target class"
   ]
  },
  {
   "cell_type": "code",
   "execution_count": 638,
   "metadata": {},
   "outputs": [
    {
     "data": {
      "text/plain": [
       "(208, 37)"
      ]
     },
     "execution_count": 638,
     "metadata": {},
     "output_type": "execute_result"
    }
   ],
   "source": [
    "corr_arr = []\n",
    "for idx, row in enumerate(x_norm):\n",
    "    arr = np.asarray(list(row) + [y_enc[idx]])\n",
    "    corr_arr.append(arr)\n",
    "corr_arr = np.asarray(corr_arr)\n",
    "corr_map = np.corrcoef(corr_arr, rowvar=False).round(2)\n",
    "corr_map = corr_map[:, 60]  # keep only final column of the heatmap | correlation to target class\n",
    "corr_map = corr_map.reshape((61, 1))\n",
    "\n",
    "to_drop = []\n",
    "for idx, value in enumerate(corr_map):\n",
    "    if value > -0.1 and value < 0.1:\n",
    "        to_drop.append(idx)\n",
    "to_drop\n",
    "\n",
    "x_norm = np.delete(x_norm, to_drop, axis=1)\n",
    "x_norm.shape"
   ]
  },
  {
   "attachments": {},
   "cell_type": "markdown",
   "metadata": {},
   "source": [
    "Splitting into train, val and test sets"
   ]
  },
  {
   "cell_type": "code",
   "execution_count": 639,
   "metadata": {},
   "outputs": [
    {
     "data": {
      "text/plain": [
       "array([[  0,  97],\n",
       "       [  1, 111]], dtype=int64)"
      ]
     },
     "execution_count": 639,
     "metadata": {},
     "output_type": "execute_result"
    }
   ],
   "source": [
    "np.array(np.unique(y_enc, return_counts=True)).T"
   ]
  },
  {
   "cell_type": "code",
   "execution_count": 640,
   "metadata": {},
   "outputs": [],
   "source": [
    "from sklearn.model_selection import train_test_split\n",
    "x_train, x_test, y_train, y_test  = train_test_split(x_norm, y_enc, test_size=0.1)\n",
    "x_train, x_val, y_train, y_val =  train_test_split(x_train, y_train, test_size=0.3)"
   ]
  },
  {
   "cell_type": "code",
   "execution_count": 641,
   "metadata": {},
   "outputs": [
    {
     "name": "stdout",
     "output_type": "stream",
     "text": [
      "(130, 37) (57, 37) (21, 37)\n",
      "(130,) (57,) (21,)\n"
     ]
    }
   ],
   "source": [
    "print(x_train.shape, x_val.shape, x_test.shape)\n",
    "print(y_train.shape, y_val.shape, y_test.shape)"
   ]
  },
  {
   "cell_type": "code",
   "execution_count": 642,
   "metadata": {},
   "outputs": [
    {
     "data": {
      "text/plain": [
       "array([[ 0, 64],\n",
       "       [ 1, 66]], dtype=int64)"
      ]
     },
     "execution_count": 642,
     "metadata": {},
     "output_type": "execute_result"
    }
   ],
   "source": [
    "np.array(np.unique(y_train, return_counts=True)).T"
   ]
  },
  {
   "cell_type": "code",
   "execution_count": 643,
   "metadata": {},
   "outputs": [
    {
     "data": {
      "text/plain": [
       "array([[ 0, 25],\n",
       "       [ 1, 32]], dtype=int64)"
      ]
     },
     "execution_count": 643,
     "metadata": {},
     "output_type": "execute_result"
    }
   ],
   "source": [
    "np.array(np.unique(y_val, return_counts=True)).T"
   ]
  },
  {
   "cell_type": "code",
   "execution_count": 644,
   "metadata": {},
   "outputs": [
    {
     "data": {
      "text/plain": [
       "array([[ 0,  8],\n",
       "       [ 1, 13]], dtype=int64)"
      ]
     },
     "execution_count": 644,
     "metadata": {},
     "output_type": "execute_result"
    }
   ],
   "source": [
    "np.array(np.unique(y_test, return_counts=True)).T"
   ]
  },
  {
   "attachments": {},
   "cell_type": "markdown",
   "metadata": {},
   "source": [
    "Creating model in Keras (tensorflow)"
   ]
  },
  {
   "cell_type": "code",
   "execution_count": 645,
   "metadata": {},
   "outputs": [],
   "source": [
    "from keras.models import Model\n",
    "from keras.layers import Input, Dense\n",
    "from keras.activations import sigmoid, relu, hard_sigmoid, tanh, softmax\n",
    "\n",
    "input = Input(shape=(x_norm.shape[1], ), name=\"input\")\n",
    "dense1 = Dense(128, activation=lambda x: relu(x, alpha=0.3))(input,)\n",
    "dense2 = Dense(128, activation=lambda x: relu(x, alpha=0.3))(dense1)\n",
    "dense3 = Dense(128, activation=lambda x: relu(x, alpha=0.3))(dense2)\n",
    "dense4 = Dense(128, activation=lambda x: relu(x, alpha=0.3))(dense3)\n",
    "dense5 = Dense(64, activation=lambda x: relu(x, alpha=0.3))(dense4)\n",
    "dense6 = Dense(64, activation=lambda x: relu(x, alpha=0.3))(dense5)\n",
    "dense7 = Dense(64, activation=lambda x: relu(x, alpha=0.3))(dense6)\n",
    "dense8 = Dense(64, activation=lambda x: relu(x, alpha=0.3))(dense7)\n",
    "dense_out = Dense(1, activation=sigmoid, name=\"dense_out\")(dense8)\n",
    "model = Model(input, dense_out, name='test_model')"
   ]
  },
  {
   "cell_type": "code",
   "execution_count": 646,
   "metadata": {},
   "outputs": [],
   "source": [
    "from keras.optimizers import Adam\n",
    "from keras.losses import BinaryCrossentropy\n",
    "from keras.metrics import BinaryAccuracy, AUC\n",
    "\n",
    "optimizer = Adam(learning_rate=0.001, beta_1=0.9, beta_2=0.99)\n",
    "model.compile(loss=BinaryCrossentropy(from_logits=False), optimizer=optimizer, metrics=[BinaryAccuracy(), AUC()])"
   ]
  },
  {
   "cell_type": "code",
   "execution_count": 647,
   "metadata": {},
   "outputs": [
    {
     "name": "stdout",
     "output_type": "stream",
     "text": [
      "Epoch 1/25\n",
      "26/26 [==============================] - 1s 8ms/step - loss: 0.6634 - binary_accuracy: 0.5846 - auc_31: 0.6481 - val_loss: 0.6138 - val_binary_accuracy: 0.6491 - val_auc_31: 0.7119\n",
      "Epoch 2/25\n",
      "26/26 [==============================] - 0s 3ms/step - loss: 0.5312 - binary_accuracy: 0.7385 - auc_31: 0.8086 - val_loss: 0.5382 - val_binary_accuracy: 0.7368 - val_auc_31: 0.7856\n",
      "Epoch 3/25\n",
      "26/26 [==============================] - 0s 3ms/step - loss: 0.4338 - binary_accuracy: 0.8154 - auc_31: 0.8729 - val_loss: 0.4929 - val_binary_accuracy: 0.7719 - val_auc_31: 0.8281\n",
      "Epoch 4/25\n",
      "26/26 [==============================] - 0s 3ms/step - loss: 0.4312 - binary_accuracy: 0.8308 - auc_31: 0.8673 - val_loss: 0.5031 - val_binary_accuracy: 0.7368 - val_auc_31: 0.8356\n",
      "Epoch 5/25\n",
      "26/26 [==============================] - 0s 3ms/step - loss: 0.4047 - binary_accuracy: 0.8462 - auc_31: 0.8955 - val_loss: 0.5521 - val_binary_accuracy: 0.7368 - val_auc_31: 0.8275\n",
      "Epoch 6/25\n",
      "26/26 [==============================] - 0s 3ms/step - loss: 0.3596 - binary_accuracy: 0.8615 - auc_31: 0.9076 - val_loss: 0.5382 - val_binary_accuracy: 0.7193 - val_auc_31: 0.8625\n",
      "Epoch 7/25\n",
      "26/26 [==============================] - 0s 3ms/step - loss: 0.3136 - binary_accuracy: 0.8615 - auc_31: 0.9289 - val_loss: 0.5120 - val_binary_accuracy: 0.7544 - val_auc_31: 0.8731\n",
      "Epoch 8/25\n",
      "26/26 [==============================] - 0s 3ms/step - loss: 0.3588 - binary_accuracy: 0.8769 - auc_31: 0.9257 - val_loss: 0.5791 - val_binary_accuracy: 0.7018 - val_auc_31: 0.8600\n",
      "Epoch 9/25\n",
      "26/26 [==============================] - 0s 3ms/step - loss: 0.4500 - binary_accuracy: 0.7538 - auc_31: 0.8782 - val_loss: 0.5006 - val_binary_accuracy: 0.7368 - val_auc_31: 0.8719\n",
      "Epoch 10/25\n",
      "26/26 [==============================] - 0s 3ms/step - loss: 0.3484 - binary_accuracy: 0.8538 - auc_31: 0.9197 - val_loss: 0.4067 - val_binary_accuracy: 0.7719 - val_auc_31: 0.8900\n",
      "Epoch 11/25\n",
      "26/26 [==============================] - 0s 3ms/step - loss: 0.2682 - binary_accuracy: 0.9000 - auc_31: 0.9523 - val_loss: 0.4541 - val_binary_accuracy: 0.7719 - val_auc_31: 0.9088\n",
      "Epoch 12/25\n",
      "26/26 [==============================] - 0s 3ms/step - loss: 0.2695 - binary_accuracy: 0.8692 - auc_31: 0.9549 - val_loss: 0.4094 - val_binary_accuracy: 0.7719 - val_auc_31: 0.8963\n",
      "Epoch 13/25\n",
      "26/26 [==============================] - 0s 3ms/step - loss: 0.2777 - binary_accuracy: 0.8923 - auc_31: 0.9498 - val_loss: 0.4681 - val_binary_accuracy: 0.7719 - val_auc_31: 0.9062\n",
      "Epoch 14/25\n",
      "26/26 [==============================] - 0s 3ms/step - loss: 0.2618 - binary_accuracy: 0.8385 - auc_31: 0.9513 - val_loss: 0.6230 - val_binary_accuracy: 0.7895 - val_auc_31: 0.9075\n",
      "Epoch 15/25\n",
      "26/26 [==============================] - 0s 3ms/step - loss: 0.2106 - binary_accuracy: 0.9154 - auc_31: 0.9725 - val_loss: 0.7300 - val_binary_accuracy: 0.7544 - val_auc_31: 0.8831\n",
      "Epoch 16/25\n",
      "26/26 [==============================] - 0s 3ms/step - loss: 0.2257 - binary_accuracy: 0.9077 - auc_31: 0.9715 - val_loss: 0.4223 - val_binary_accuracy: 0.7544 - val_auc_31: 0.9106\n",
      "Epoch 17/25\n",
      "26/26 [==============================] - 0s 3ms/step - loss: 0.1496 - binary_accuracy: 0.9308 - auc_31: 0.9863 - val_loss: 0.7536 - val_binary_accuracy: 0.7368 - val_auc_31: 0.9000\n",
      "Epoch 18/25\n",
      "26/26 [==============================] - 0s 3ms/step - loss: 0.1848 - binary_accuracy: 0.9077 - auc_31: 0.9781 - val_loss: 0.5292 - val_binary_accuracy: 0.7895 - val_auc_31: 0.8906\n",
      "Epoch 19/25\n",
      "26/26 [==============================] - 0s 3ms/step - loss: 0.1733 - binary_accuracy: 0.9385 - auc_31: 0.9801 - val_loss: 0.6535 - val_binary_accuracy: 0.7018 - val_auc_31: 0.8750\n",
      "Epoch 20/25\n",
      "26/26 [==============================] - 0s 3ms/step - loss: 0.1884 - binary_accuracy: 0.9308 - auc_31: 0.9799 - val_loss: 0.4284 - val_binary_accuracy: 0.8070 - val_auc_31: 0.9106\n",
      "Epoch 21/25\n",
      "26/26 [==============================] - 0s 3ms/step - loss: 0.0781 - binary_accuracy: 0.9769 - auc_31: 0.9981 - val_loss: 0.6600 - val_binary_accuracy: 0.7895 - val_auc_31: 0.8806\n",
      "Epoch 22/25\n",
      "26/26 [==============================] - 0s 3ms/step - loss: 0.1061 - binary_accuracy: 0.9538 - auc_31: 0.9941 - val_loss: 0.7325 - val_binary_accuracy: 0.7719 - val_auc_31: 0.8181\n",
      "Epoch 23/25\n",
      "26/26 [==============================] - 0s 3ms/step - loss: 0.1100 - binary_accuracy: 0.9538 - auc_31: 0.9925 - val_loss: 1.6405 - val_binary_accuracy: 0.7368 - val_auc_31: 0.7931\n",
      "Epoch 24/25\n",
      "26/26 [==============================] - 0s 3ms/step - loss: 0.3598 - binary_accuracy: 0.9077 - auc_31: 0.9509 - val_loss: 0.6854 - val_binary_accuracy: 0.7018 - val_auc_31: 0.7650\n",
      "Epoch 25/25\n",
      "26/26 [==============================] - 0s 3ms/step - loss: 0.1375 - binary_accuracy: 0.9692 - auc_31: 0.9962 - val_loss: 0.6774 - val_binary_accuracy: 0.7895 - val_auc_31: 0.9037\n"
     ]
    },
    {
     "data": {
      "text/plain": [
       "<keras.callbacks.History at 0x2cd29677490>"
      ]
     },
     "execution_count": 647,
     "metadata": {},
     "output_type": "execute_result"
    }
   ],
   "source": [
    "val_data = (x_val, y_val)\n",
    "model.fit(x=x_train, y=y_train, validation_data=val_data, batch_size=5, epochs=25, verbose=1)"
   ]
  },
  {
   "cell_type": "code",
   "execution_count": 648,
   "metadata": {},
   "outputs": [
    {
     "name": "stdout",
     "output_type": "stream",
     "text": [
      "1/1 [==============================] - 0s 3ms/step - loss: 0.4759 - binary_accuracy: 0.8095 - auc_31: 0.9760\n"
     ]
    },
    {
     "data": {
      "text/plain": [
       "[0.475899875164032, 0.8095238208770752, 0.9759615659713745]"
      ]
     },
     "execution_count": 648,
     "metadata": {},
     "output_type": "execute_result"
    }
   ],
   "source": [
    "model.evaluate(x=x_test, y=y_test)"
   ]
  },
  {
   "cell_type": "code",
   "execution_count": 649,
   "metadata": {},
   "outputs": [
    {
     "name": "stdout",
     "output_type": "stream",
     "text": [
      "Model: \"test_model\"\n",
      "_________________________________________________________________\n",
      " Layer (type)                Output Shape              Param #   \n",
      "=================================================================\n",
      " input (InputLayer)          [(None, 37)]              0         \n",
      "                                                                 \n",
      " dense_227 (Dense)           (None, 128)               4864      \n",
      "                                                                 \n",
      " dense_228 (Dense)           (None, 128)               16512     \n",
      "                                                                 \n",
      " dense_229 (Dense)           (None, 128)               16512     \n",
      "                                                                 \n",
      " dense_230 (Dense)           (None, 128)               16512     \n",
      "                                                                 \n",
      " dense_231 (Dense)           (None, 64)                8256      \n",
      "                                                                 \n",
      " dense_232 (Dense)           (None, 64)                4160      \n",
      "                                                                 \n",
      " dense_233 (Dense)           (None, 64)                4160      \n",
      "                                                                 \n",
      " dense_234 (Dense)           (None, 64)                4160      \n",
      "                                                                 \n",
      " dense_out (Dense)           (None, 1)                 65        \n",
      "                                                                 \n",
      "=================================================================\n",
      "Total params: 75,201\n",
      "Trainable params: 75,201\n",
      "Non-trainable params: 0\n",
      "_________________________________________________________________\n"
     ]
    }
   ],
   "source": [
    "model.summary()"
   ]
  }
 ],
 "metadata": {
  "kernelspec": {
   "display_name": "nsiete_test",
   "language": "python",
   "name": "python3"
  },
  "language_info": {
   "codemirror_mode": {
    "name": "ipython",
    "version": 3
   },
   "file_extension": ".py",
   "mimetype": "text/x-python",
   "name": "python",
   "nbconvert_exporter": "python",
   "pygments_lexer": "ipython3",
   "version": "3.9.16"
  },
  "orig_nbformat": 4
 },
 "nbformat": 4,
 "nbformat_minor": 2
}
